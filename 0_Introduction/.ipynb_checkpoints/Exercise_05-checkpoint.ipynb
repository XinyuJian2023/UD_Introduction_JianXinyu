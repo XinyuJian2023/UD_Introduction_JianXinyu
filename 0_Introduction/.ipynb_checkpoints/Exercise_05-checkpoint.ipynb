{
 "cells": [
  {
   "cell_type": "code",
   "execution_count": 1,
   "id": "a2d494ae",
   "metadata": {},
   "outputs": [
    {
     "name": "stdout",
     "output_type": "stream",
     "text": [
      "input your firstname: Xinyu\n",
      "input your Lastname: Jian\n",
      "Your firstname is Xinyu\n",
      "Your lastname is Jian\n",
      "Your name is Xinyu Jian\n"
     ]
    }
   ],
   "source": [
    "FirstName = input('input your firstname: ')\n",
    "LastName = input('input your Lastname: ')\n",
    "print('Your firstname is ' + FirstName)\n",
    "print('Your lastname is ' + LastName)\n",
    "print('Your name is ' + FirstName + ' ' + LastName )"
   ]
  },
  {
   "cell_type": "code",
   "execution_count": null,
   "id": "ff7fbb81",
   "metadata": {},
   "outputs": [],
   "source": []
  }
 ],
 "metadata": {
  "kernelspec": {
   "display_name": "Python 3 (ipykernel)",
   "language": "python",
   "name": "python3"
  },
  "language_info": {
   "codemirror_mode": {
    "name": "ipython",
    "version": 3
   },
   "file_extension": ".py",
   "mimetype": "text/x-python",
   "name": "python",
   "nbconvert_exporter": "python",
   "pygments_lexer": "ipython3",
   "version": "3.11.5"
  }
 },
 "nbformat": 4,
 "nbformat_minor": 5
}
