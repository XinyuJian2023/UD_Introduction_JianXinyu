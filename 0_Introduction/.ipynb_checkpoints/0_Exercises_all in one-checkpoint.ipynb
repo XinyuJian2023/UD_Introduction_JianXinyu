{
 "cells": [
  {
   "cell_type": "markdown",
   "id": "529d91ae",
   "metadata": {},
   "source": [
    "# Exercise 00\n",
    "Write a bit of code that prints _Introduction to Programming_ to the console and execute the cell"
   ]
  },
  {
   "cell_type": "code",
   "execution_count": 17,
   "id": "98711beb",
   "metadata": {},
   "outputs": [
    {
     "name": "stdout",
     "output_type": "stream",
     "text": [
      "Introduction to Programming\n"
     ]
    }
   ],
   "source": [
    "print('Introduction to Programming')"
   ]
  },
  {
   "cell_type": "markdown",
   "id": "63ad5023",
   "metadata": {},
   "source": [
    "-----------------------------------------------------------------------------\n",
    "# Exercise 01\n",
    "Hello World is traditionally the first program anyone writes. It is\n",
    "very simple and the only thing it should do is print Hello World! to the\n",
    "terminal window.\n",
    "Create a file called HelloWorld.py and edit the contents so it prints Hello World! to the terminal and execute it using the command line."
   ]
  },
  {
   "cell_type": "code",
   "execution_count": 18,
   "id": "de896644",
   "metadata": {},
   "outputs": [
    {
     "name": "stdout",
     "output_type": "stream",
     "text": [
      "Hello World!\n"
     ]
    }
   ],
   "source": [
    "# %load Hello world.py\n",
    "print('Hello World!')"
   ]
  },
  {
   "cell_type": "markdown",
   "id": "a4a7c4c2",
   "metadata": {},
   "source": [
    "-----------------------------------------------------------------------------\n",
    "# Exercise 02\n",
    "Write some code to print your name, email, and age on separate lines. For each element first assign it to a variable and use the variable to print. \n",
    "\n",
    "Bonus: try to create the print statement for all variable in one line of code. (hint: '\\n' is the character for a new line)"
   ]
  },
  {
   "cell_type": "code",
   "execution_count": 19,
   "id": "fc8fface",
   "metadata": {},
   "outputs": [
    {
     "name": "stdout",
     "output_type": "stream",
     "text": [
      "Jian Xinyu\n",
      "xinyu.jian.23@ucl.ac.uk\n",
      "23\n",
      "Jian Xinyu\n",
      "xinyu.jian.23@ucl.ac.uk\n",
      "23\n"
     ]
    }
   ],
   "source": [
    "MyName = 'Jian Xinyu'\n",
    "MyEmail = 'xinyu.jian.23@ucl.ac.uk'\n",
    "Age = '23'\n",
    "print(MyName)\n",
    "print(MyEmail)\n",
    "print(Age)\n",
    "print(MyName + '\\n' + MyEmail + '\\n' + Age)"
   ]
  },
  {
   "cell_type": "markdown",
   "id": "0dd1c1d1",
   "metadata": {},
   "source": [
    "-----------------------------------------------------------------------------\n",
    "# Exercise 03\n",
    "Print the numbers 0, 178, -21, 2938 divided by 49, 436 multiplied with 9948 and 12 to the power of 20\n",
    "\n",
    "(Hint: Look up the documentation of basic arithmetic operators)"
   ]
  },
  {
   "cell_type": "code",
   "execution_count": 20,
   "id": "f3d5d009",
   "metadata": {},
   "outputs": [
    {
     "name": "stdout",
     "output_type": "stream",
     "text": [
      "0\n",
      "178\n",
      "-21\n",
      "59.95918367346939\n",
      "4337328\n",
      "3833759992447475122176\n"
     ]
    }
   ],
   "source": [
    "print(0)\n",
    "print(178)\n",
    "print(-21)\n",
    "print(2938/49)\n",
    "print(436*9948)\n",
    "print(12**20)"
   ]
  },
  {
   "cell_type": "markdown",
   "id": "1f151455",
   "metadata": {},
   "source": [
    "-----------------------------------------------------------------------------\n",
    "# Exercise 04\n",
    "Print sin(200), cos(100), tan($\\pi$/4)\n",
    "\n",
    "(Hint: Look up for how to use trigonometric function, and how to get the value of $\\pi$.)"
   ]
  },
  {
   "cell_type": "code",
   "execution_count": 21,
   "id": "d0e37690",
   "metadata": {},
   "outputs": [
    {
     "name": "stdout",
     "output_type": "stream",
     "text": [
      "-0.8732972972139946\n",
      "0.8623188722876839\n",
      "0.9999999999999999\n"
     ]
    }
   ],
   "source": [
    "import math\n",
    "print(math.sin(200))\n",
    "print(math.cos(100))\n",
    "print(math.tan(math.pi/4))"
   ]
  },
  {
   "cell_type": "markdown",
   "id": "9d026820",
   "metadata": {},
   "source": [
    "-----------------------------------------------------------------------------\n",
    "# Exercise 05\n",
    "Write a program to read your first and last names from the console seperately, and then print them on the console together, separated by a space."
   ]
  },
  {
   "cell_type": "code",
   "execution_count": 25,
   "id": "4c7217e0",
   "metadata": {},
   "outputs": [
    {
     "name": "stdout",
     "output_type": "stream",
     "text": [
      "input your firstname: Xinyu\n",
      "input your Lastname: Jian\n",
      "Your firstname is Xinyu\n",
      "Your lastname is Jian\n",
      "Your name is Xinyu Jian\n"
     ]
    }
   ],
   "source": [
    "FirstName = input('input your firstname: ')\n",
    "LastName = input('input your Lastname: ')\n",
    "print('Your firstname is ' + FirstName)\n",
    "print('Your lastname is ' + LastName)\n",
    "print('Your name is ' + FirstName + ' ' + LastName )"
   ]
  },
  {
   "cell_type": "markdown",
   "id": "e83fa346",
   "metadata": {},
   "source": [
    "-----------------------------------------------------------------------------\n",
    "# Exercise 06\n",
    "Write a program that determines whether a number given as user input is positive or negative\n",
    " \n",
    "You will need to convert the console input from a string to a number first!"
   ]
  },
  {
   "cell_type": "code",
   "execution_count": 28,
   "id": "ecd924c2",
   "metadata": {},
   "outputs": [
    {
     "name": "stdout",
     "output_type": "stream",
     "text": [
      "Please input a number: -50\n",
      "The number is negative.\n"
     ]
    }
   ],
   "source": [
    "YourNum = input('Please input a number: ')\n",
    "if int(YourNum) > 0:\n",
    "    print('The number is positive.')\n",
    "elif int(YourNum) < 0:\n",
    "    print('The number is negative.')\n",
    "else:\n",
    "    print('0 is neither positive nor negative')"
   ]
  },
  {
   "cell_type": "markdown",
   "id": "2a192596",
   "metadata": {},
   "source": [
    "-----------------------------------------------------------------------------\n",
    "# Exercise 07\n",
    "Write a program that picks a random number between 1-20 and makes the user guess until they get the number right. Then print a congratulations message\n",
    "- (Find out yourself how to generate a random integer)\n",
    "- Bonus: make the user choose the range within which they have to guess\n",
    "- Bonus: keep track of how many guesses were made and print this at the end"
   ]
  },
  {
   "cell_type": "code",
   "execution_count": 1,
   "id": "70358dd3",
   "metadata": {},
   "outputs": [
    {
     "name": "stdout",
     "output_type": "stream",
     "text": [
      "Now play the guessing number game!\n",
      "You can guess the number between 0 and 20.\n",
      "Please enter an integer between 1 and 20: 6.12\n",
      "You must enter an integer.\n",
      "Please enter an integer between 1 and 20: 6\n",
      "The number you entered is too small, try again!\n",
      "Re-enter a number: 10\n",
      "The number you entered is too large, try again!\n",
      "Re-enter a number: 8\n",
      "Congratulations！！ Your are right！！\n",
      "You guessed 3 times in total.\n"
     ]
    }
   ],
   "source": [
    "import random\n",
    "RandNum = random.randint(0,20)\n",
    "# print(RandNum)\n",
    "print('Now play the guessing number game!')\n",
    "print('You can guess the number between 0 and 20.')\n",
    "\n",
    "def check(Num01):\n",
    "    Sign = True\n",
    "    while(Sign):\n",
    "        try:\n",
    "            if 0 <= int(Num01) <= 20:\n",
    "                Sign = False\n",
    "            else:\n",
    "                Num01 = input('The number you entered is out of range, please re-enter it: ')\n",
    "        except Exception:\n",
    "            print('You must enter an integer.')\n",
    "            Num01 = input('Please enter an integer between 1 and 20: ')\n",
    "    return Num01\n",
    "\n",
    "Sign2 = True\n",
    "Num01 = input('Please enter an integer between 1 and 20: ')\n",
    "Num01 = check(Num01)\n",
    "i = 1\n",
    "while(Sign2):\n",
    "    if int(Num01) < RandNum:\n",
    "        print('The number you entered is too small, try again!')\n",
    "        Num01 = input('Re-enter a number: ')\n",
    "        i = i + 1\n",
    "        continue\n",
    "    elif int(Num01) > RandNum:\n",
    "        print('The number you entered is too large, try again!')\n",
    "        Num01 = input('Re-enter a number: ')\n",
    "        i = i + 1\n",
    "        continue\n",
    "    elif int(Num01) == RandNum:\n",
    "        print('Congratulations！！ Your are right！！')\n",
    "        Sign2 = False\n",
    "print('You guessed ' +  str(i) + ' times in total.')\n",
    "\n"
   ]
  },
  {
   "cell_type": "markdown",
   "id": "d53b9c07",
   "metadata": {},
   "source": [
    "-----------------------------------------------------------------------------\n",
    "# Exercise 08\n",
    "Ask a sentence as input, then print the words in alphabetical order.\n",
    "Hint: look up how to split up a string"
   ]
  },
  {
   "cell_type": "code",
   "execution_count": 6,
   "id": "b6524cf5",
   "metadata": {},
   "outputs": [
    {
     "name": "stdout",
     "output_type": "stream",
     "text": [
      "Please write a sentence: have a good day\n",
      "['a', 'day', 'good', 'have']\n",
      "a\n",
      "day\n",
      "good\n",
      "have\n"
     ]
    }
   ],
   "source": [
    "Sen = input('Please write a sentence: ')\n",
    "List1 = Sen.split()\n",
    "List1.sort()\n",
    "print(List1)\n",
    "\n",
    "for i in List1:\n",
    "    print(i)"
   ]
  },
  {
   "cell_type": "markdown",
   "id": "09a7b060",
   "metadata": {},
   "source": [
    "-----------------------------------------------------------------------------\n",
    "# Exercise 09\n",
    "Write a program using for loops to print a christmas tree of x lines high\n",
    "specified by the user.\n",
    "(use for loops)\n",
    "so for instance, a chrismas tree of 4 high should looks like this:\n",
    "\n",
    "```\n",
    "\n",
    "    *\n",
    "   ***\n",
    "  *****\n",
    " *******\n",
    "    |\n",
    "\n",
    "```\n",
    "\n",
    "hint: first combine strings into a variable before printing"
   ]
  },
  {
   "cell_type": "code",
   "execution_count": 31,
   "id": "5150f7a4",
   "metadata": {},
   "outputs": [
    {
     "name": "stdout",
     "output_type": "stream",
     "text": [
      "Rows: 10\n",
      "          *\n",
      "         ***\n",
      "        *****\n",
      "       *******\n",
      "      *********\n",
      "     ***********\n",
      "    *************\n",
      "   ***************\n",
      "  *****************\n",
      " *******************\n"
     ]
    }
   ],
   "source": [
    "x = input('Rows: ')\n",
    "for i in range(1,int(x)+1):\n",
    "    print((int(x)+1-i)*' ' + (2*i-1)*'*')"
   ]
  },
  {
   "cell_type": "markdown",
   "id": "07f67531",
   "metadata": {},
   "source": [
    "-----------------------------------------------------------------------------\n",
    "# Exercise 10\n",
    "Write a piece of code that prints the first $n$ numbers of the padovan sequence"
   ]
  },
  {
   "cell_type": "code",
   "execution_count": 33,
   "id": "d301c61b",
   "metadata": {},
   "outputs": [
    {
     "name": "stdout",
     "output_type": "stream",
     "text": [
      "Please enter the list length of Padovan sequences: 200\n",
      "Padovan sequence: \n",
      "[1, 1, 1, 2, 2, 3, 4, 5, 7, 9, 12, 16, 21, 28, 37, 49, 65, 86, 114, 151, 200, 265, 351, 465, 616, 816, 1081, 1432, 1897, 2513, 3329, 4410, 5842, 7739, 10252, 13581, 17991, 23833, 31572, 41824, 55405, 73396, 97229, 128801, 170625, 226030, 299426, 396655, 525456, 696081, 922111, 1221537, 1618192, 2143648, 2839729, 3761840, 4983377, 6601569, 8745217, 11584946, 15346786, 20330163, 26931732, 35676949, 47261895, 62608681, 82938844, 109870576, 145547525, 192809420, 255418101, 338356945, 448227521, 593775046, 786584466, 1042002567, 1380359512, 1828587033, 2422362079, 3208946545, 4250949112, 5631308624, 7459895657, 9882257736, 13091204281, 17342153393, 22973462017, 30433357674, 40315615410, 53406819691, 70748973084, 93722435101, 124155792775, 164471408185, 217878227876, 288627200960, 382349636061, 506505428836, 670976837021, 888855064897, 1177482265857, 1559831901918, 2066337330754, 2737314167775, 3626169232672, 4803651498529, 6363483400447, 8429820731201, 11167134898976, 14793304131648, 19596955630177, 25960439030624, 34390259761825, 45557394660801, 60350698792449, 79947654422626, 105908093453250, 140298353215075, 185855747875876, 246206446668325, 326154101090951, 432062194544201, 572360547759276, 758216295635152, 1004422742303477, 1330576843394428, 1762639037938629, 2334999585697905, 3093215881333057, 4097638623636534, 5428215467030962, 7190854504969591, 9525854090667496, 12619069972000553, 16716708595637087, 22144924062668049, 29335778567637640, 38861632658305136, 51480702630305689, 68197411225942776, 90342335288610825, 119678113856248465, 158539746514553601, 210020449144859290, 278217860370802066, 368560195659412891, 488238309515661356, 646778056030214957, 856798505175074247, 1135016365545876313, 1503576561205289204, 1991814870720950560, 2638592926751165517, 3495391431926239764, 4630407797472116077, 6133984358677405281, 8125799229398355841, 10764392156149521358, 14259783588075761122, 18890191385547877199, 25024175744225282480, 33149974973623638321, 43914367129773159679, 58174150717848920801, 77064342103396798000, 102088517847622080480, 135238492821245718801, 179152859951018878480, 237327010668867799281, 314391352772264597281, 416479870619886677761, 551718363441132396562, 730871223392151275042, 968198234061019074323, 1282589586833283671604, 1699069457453170349365, 2250787820894302745927, 2981659044286454020969, 3949857278347473095292, 5232446865180756766896, 6931516322633927116261, 9182304143528229862188, 12163963187814683883157, 16113820466162156978449, 21346267331342913745345, 28277783653976840861606, 37460087797505070723794, 49624050985319754606951, 65737871451481911585400, 87084138782824825330745, 115361922436801666192351, 152822010234306736916145, 202446061219626491523096, 268183932671108403108496, 355268071453933228439241, 470629993890734894631592, 623452004125041631547737, 825898065344668123070833, 1094081998015776526179329, 1449350069469709754618570]\n"
     ]
    }
   ],
   "source": [
    "def padovan(n):\n",
    "    Padovan = [1, 1, 1]\n",
    "    if n <= 3:\n",
    "        return Padovan\n",
    "    else:\n",
    "        for i in range(3, n):\n",
    "            NextNum = Padovan[i - 2] + Padovan[i - 3]\n",
    "            Padovan.append(NextNum)\n",
    "        return Padovan\n",
    "\n",
    "n = int(input('Please enter the list length of Padovan sequences: '))\n",
    "PadovanNums = padovan(n)\n",
    "print('Padovan sequence: ')\n",
    "print(PadovanNums)\n"
   ]
  }
 ],
 "metadata": {
  "kernelspec": {
   "display_name": "Python 3 (ipykernel)",
   "language": "python",
   "name": "python3"
  },
  "language_info": {
   "codemirror_mode": {
    "name": "ipython",
    "version": 3
   },
   "file_extension": ".py",
   "mimetype": "text/x-python",
   "name": "python",
   "nbconvert_exporter": "python",
   "pygments_lexer": "ipython3",
   "version": "3.11.5"
  }
 },
 "nbformat": 4,
 "nbformat_minor": 5
}
