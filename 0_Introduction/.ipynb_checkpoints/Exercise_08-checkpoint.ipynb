{
 "cells": [
  {
   "cell_type": "code",
   "execution_count": 2,
   "id": "0bfeb2e8",
   "metadata": {},
   "outputs": [
    {
     "name": "stdout",
     "output_type": "stream",
     "text": [
      "Please write a sentence: Hello the whole world\n",
      "['Hello', 'the', 'whole', 'world']\n"
     ]
    }
   ],
   "source": [
    "Sen = input('Please write a sentence: ')\n",
    "List1 = Sen.split()\n",
    "print(List1)\n",
    "List1.sort()"
   ]
  }
 ],
 "metadata": {
  "kernelspec": {
   "display_name": "Python 3 (ipykernel)",
   "language": "python",
   "name": "python3"
  },
  "language_info": {
   "codemirror_mode": {
    "name": "ipython",
    "version": 3
   },
   "file_extension": ".py",
   "mimetype": "text/x-python",
   "name": "python",
   "nbconvert_exporter": "python",
   "pygments_lexer": "ipython3",
   "version": "3.11.5"
  }
 },
 "nbformat": 4,
 "nbformat_minor": 5
}
