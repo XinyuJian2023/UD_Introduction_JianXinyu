{
 "cells": [
  {
   "cell_type": "code",
   "execution_count": 2,
   "id": "7a2e9020",
   "metadata": {},
   "outputs": [
    {
     "name": "stdout",
     "output_type": "stream",
     "text": [
      "Please input a number: 5\n",
      "The number is positive.\n"
     ]
    }
   ],
   "source": [
    "YourNum = input('Please input a number: ')\n",
    "if int(YourNum) > 0:\n",
    "    print('The number is positive.')\n",
    "elif int(YourNum) < 0:\n",
    "    print('The number is negative.')\n",
    "else:\n",
    "    print('0 is neither positive nor negative')"
   ]
  },
  {
   "cell_type": "code",
   "execution_count": null,
   "id": "0a08ff13",
   "metadata": {},
   "outputs": [],
   "source": []
  }
 ],
 "metadata": {
  "kernelspec": {
   "display_name": "Python 3 (ipykernel)",
   "language": "python",
   "name": "python3"
  },
  "language_info": {
   "codemirror_mode": {
    "name": "ipython",
    "version": 3
   },
   "file_extension": ".py",
   "mimetype": "text/x-python",
   "name": "python",
   "nbconvert_exporter": "python",
   "pygments_lexer": "ipython3",
   "version": "3.11.5"
  }
 },
 "nbformat": 4,
 "nbformat_minor": 5
}
