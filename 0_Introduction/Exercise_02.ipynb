{
 "cells": [
  {
   "cell_type": "code",
   "execution_count": 1,
   "id": "ea7f355f",
   "metadata": {},
   "outputs": [
    {
     "name": "stdout",
     "output_type": "stream",
     "text": [
      "Jian Xinyu\n",
      "xinyu.jian.23@ucl.ac.uk\n",
      "23\n",
      "Jian Xinyu\n",
      "xinyu.jian.23@ucl.ac.uk\n",
      "23\n"
     ]
    }
   ],
   "source": [
    "MyName = 'Jian Xinyu'\n",
    "MyEmail = 'xinyu.jian.23@ucl.ac.uk'\n",
    "Age = '23'\n",
    "print(MyName)\n",
    "print(MyEmail)\n",
    "print(Age)\n",
    "print(MyName + '\\n' + MyEmail + '\\n' + Age)"
   ]
  }
 ],
 "metadata": {
  "kernelspec": {
   "display_name": "Python 3 (ipykernel)",
   "language": "python",
   "name": "python3"
  },
  "language_info": {
   "codemirror_mode": {
    "name": "ipython",
    "version": 3
   },
   "file_extension": ".py",
   "mimetype": "text/x-python",
   "name": "python",
   "nbconvert_exporter": "python",
   "pygments_lexer": "ipython3",
   "version": "3.11.5"
  }
 },
 "nbformat": 4,
 "nbformat_minor": 5
}
