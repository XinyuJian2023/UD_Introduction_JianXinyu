{
 "cells": [
  {
   "cell_type": "code",
   "execution_count": 3,
   "id": "c56973a0",
   "metadata": {},
   "outputs": [
    {
     "name": "stdout",
     "output_type": "stream",
     "text": [
      "Now play the guessing number game!\n",
      "You can guess the number between 0 and 20.\n",
      "Please enter an integer between 1 and 20: 5\n",
      "The number you entered is too small, try again!\n",
      "Re-enter a number: 10\n",
      "The number you entered is too small, try again!\n",
      "Re-enter a number: 16\n",
      "The number you entered is too large, try again!\n",
      "Re-enter a number: 14\n",
      "The number you entered is too large, try again!\n",
      "Re-enter a number: 12\n",
      "The number you entered is too large, try again!\n",
      "Re-enter a number: 11\n",
      "Congratulations！！ Your are right！！\n",
      "You guessed 6 times in total.\n"
     ]
    }
   ],
   "source": [
    "import random\n",
    "RandNum = random.randint(0,20)\n",
    "# print(RandNum)\n",
    "print('Now play the guessing number game!')\n",
    "print('You can guess the number between 0 and 20.')\n",
    "\n",
    "def check(Num01):\n",
    "    Sign = True\n",
    "    while(Sign):\n",
    "        if 0 <= int(Num01) <= 20:\n",
    "            Sign = False\n",
    "        else:\n",
    "            Num01 = input('The number you entered is out of range, please re-enter it: ')\n",
    "    return Num01\n",
    "\n",
    "Sign2 = True\n",
    "Num01 = input('Please enter an integer between 1 and 20: ')\n",
    "Num01 = check(Num01)\n",
    "i = 1\n",
    "while(Sign2):\n",
    "    if int(Num01) < RandNum:\n",
    "        print('The number you entered is too small, try again!')\n",
    "        Num01 = input('Re-enter a number: ')\n",
    "        i = i + 1\n",
    "        continue\n",
    "    elif int(Num01) > RandNum:\n",
    "        print('The number you entered is too large, try again!')\n",
    "        Num01 = input('Re-enter a number: ')\n",
    "        i = i + 1\n",
    "        continue\n",
    "    elif int(Num01) == RandNum:\n",
    "        print('Congratulations！！ Your are right！！')\n",
    "        Sign2 = False\n",
    "print('You guessed ' +  str(i) + ' times in total.')\n"
   ]
  },
  {
   "cell_type": "code",
   "execution_count": null,
   "id": "28b93a9e",
   "metadata": {},
   "outputs": [],
   "source": []
  }
 ],
 "metadata": {
  "kernelspec": {
   "display_name": "Python 3 (ipykernel)",
   "language": "python",
   "name": "python3"
  },
  "language_info": {
   "codemirror_mode": {
    "name": "ipython",
    "version": 3
   },
   "file_extension": ".py",
   "mimetype": "text/x-python",
   "name": "python",
   "nbconvert_exporter": "python",
   "pygments_lexer": "ipython3",
   "version": "3.11.5"
  }
 },
 "nbformat": 4,
 "nbformat_minor": 5
}
