{
 "cells": [
  {
   "cell_type": "code",
   "execution_count": 1,
   "id": "f21f77be",
   "metadata": {},
   "outputs": [
    {
     "name": "stdout",
     "output_type": "stream",
     "text": [
      "0\n",
      "178\n",
      "-21\n",
      "59.95918367346939\n",
      "4337328\n",
      "3833759992447475122176\n"
     ]
    }
   ],
   "source": [
    "print(0)\n",
    "print(178)\n",
    "print(-21)\n",
    "print(2938/49)\n",
    "print(436*9948)\n",
    "print(12**20)"
   ]
  }
 ],
 "metadata": {
  "kernelspec": {
   "display_name": "Python 3 (ipykernel)",
   "language": "python",
   "name": "python3"
  },
  "language_info": {
   "codemirror_mode": {
    "name": "ipython",
    "version": 3
   },
   "file_extension": ".py",
   "mimetype": "text/x-python",
   "name": "python",
   "nbconvert_exporter": "python",
   "pygments_lexer": "ipython3",
   "version": "3.11.5"
  }
 },
 "nbformat": 4,
 "nbformat_minor": 5
}
