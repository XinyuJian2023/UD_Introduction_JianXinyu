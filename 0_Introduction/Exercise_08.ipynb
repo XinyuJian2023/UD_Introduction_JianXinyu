{
 "cells": [
  {
   "cell_type": "code",
   "execution_count": 4,
   "id": "0bfeb2e8",
   "metadata": {},
   "outputs": [
    {
     "name": "stdout",
     "output_type": "stream",
     "text": [
      "Please write a sentence: have a good day\n",
      "['a', 'day', 'good', 'have']\n",
      "a\n",
      "day\n",
      "good\n",
      "have\n"
     ]
    }
   ],
   "source": [
    "Sen = input('Please write a sentence: ')\n",
    "List1 = Sen.split()\n",
    "List1.sort()\n",
    "print(List1)\n",
    "\n",
    "for i in List1:\n",
    "    print(i)"
   ]
  }
 ],
 "metadata": {
  "kernelspec": {
   "display_name": "Python 3 (ipykernel)",
   "language": "python",
   "name": "python3"
  },
  "language_info": {
   "codemirror_mode": {
    "name": "ipython",
    "version": 3
   },
   "file_extension": ".py",
   "mimetype": "text/x-python",
   "name": "python",
   "nbconvert_exporter": "python",
   "pygments_lexer": "ipython3",
   "version": "3.11.5"
  }
 },
 "nbformat": 4,
 "nbformat_minor": 5
}
