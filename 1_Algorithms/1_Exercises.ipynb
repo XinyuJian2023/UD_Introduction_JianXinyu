{
 "cells": [
  {
   "cell_type": "markdown",
   "id": "38e188a5",
   "metadata": {},
   "source": [
    "# Exercise 00\n",
    "Write a piece of code that allocates a list of 20 integers and initializes each element by its index multiplied by 5. Print the result."
   ]
  },
  {
   "cell_type": "code",
   "execution_count": 1,
   "id": "01aa4f35",
   "metadata": {},
   "outputs": [
    {
     "name": "stdout",
     "output_type": "stream",
     "text": [
      "[0, 5, 10, 15, 20, 25, 30, 35, 40, 45, 50, 55, 60, 65, 70, 75, 80, 85, 90, 95]\n"
     ]
    }
   ],
   "source": [
    "list = []\n",
    "for i in range(20):\n",
    "    list.append(i*5)\n",
    "print(list)"
   ]
  },
  {
   "cell_type": "markdown",
   "id": "529d91ae",
   "metadata": {},
   "source": [
    "# Exercise 01\n",
    "Define a function that takes an integer as input, prints  all integers that it is divisable by, and returns the largest one."
   ]
  },
  {
   "cell_type": "code",
   "execution_count": 2,
   "id": "30e79132",
   "metadata": {},
   "outputs": [],
   "source": [
    "def d(x):\n",
    "    for i in range(1,int(x/2)+1):\n",
    "        if x%i==0:\n",
    "            d = i\n",
    "            print(i)\n",
    "    return d"
   ]
  },
  {
   "cell_type": "code",
   "execution_count": 3,
   "id": "b41ae533",
   "metadata": {},
   "outputs": [
    {
     "name": "stdout",
     "output_type": "stream",
     "text": [
      "please enter an integer: 56\n",
      "1\n",
      "2\n",
      "4\n",
      "7\n",
      "8\n",
      "14\n",
      "28\n"
     ]
    },
    {
     "data": {
      "text/plain": [
       "28"
      ]
     },
     "execution_count": 3,
     "metadata": {},
     "output_type": "execute_result"
    }
   ],
   "source": [
    "d(int(input('please enter an integer: ')))"
   ]
  },
  {
   "cell_type": "markdown",
   "id": "cfbe30d4",
   "metadata": {},
   "source": [
    "# Exercise 02\n",
    "- create a dictionary with 6 keys and values of your choice\n",
    "- write a function that takes a dictionary and a value as input and returns whether the value occurs as a key in the dictionary\n",
    "- write a function that takes a dictionary as input, and returns the dictionary but the keys are swapped with their values (resolve the issue if a value occurs twice!)"
   ]
  },
  {
   "cell_type": "code",
   "execution_count": 4,
   "id": "2123f1c6",
   "metadata": {},
   "outputs": [
    {
     "name": "stdout",
     "output_type": "stream",
     "text": [
      "{'fruit': 'apple', 'name': 'Xinyu Jian', 'age': 23, 'date': '231004', 'key': '123', 'gender': 'male', 'hisage': 23} 7\n"
     ]
    }
   ],
   "source": [
    "dict1 = {\"fruit\":\"apple\", \n",
    "         \"name\":\"Xinyu Jian\", \n",
    "         \"age\": 23, \n",
    "         \"date\": \"231004\", \n",
    "         \"key\": \"123\", \n",
    "         \"gender\": \"male\", \n",
    "        \"hisage\": 23}\n",
    "print(dict1, len(dict1))\n"
   ]
  },
  {
   "cell_type": "code",
   "execution_count": 5,
   "id": "7a8ce6ae",
   "metadata": {},
   "outputs": [],
   "source": [
    "def isindict(dict, key):\n",
    "    for i in dict.keys():\n",
    "        if key == i:\n",
    "            return True\n",
    "    return False"
   ]
  },
  {
   "cell_type": "code",
   "execution_count": 6,
   "id": "31996b04",
   "metadata": {},
   "outputs": [
    {
     "name": "stdout",
     "output_type": "stream",
     "text": [
      "True False\n"
     ]
    }
   ],
   "source": [
    "test1 = isindict(dict1, \"date\")\n",
    "test2 = isindict(dict1, \"banana\")\n",
    "print(test1, test2)"
   ]
  },
  {
   "cell_type": "code",
   "execution_count": 7,
   "id": "109d8e00",
   "metadata": {},
   "outputs": [],
   "source": [
    "def redict(dict):\n",
    "    newdict = {}\n",
    "    for i in dict.keys():\n",
    "        if isindict(newdict,dict[i]):\n",
    "            old = newdict[dict[i]]\n",
    "            new = dict[i]\n",
    "            com = [old, new]\n",
    "            newdict[dict[i]] = com\n",
    "        else:\n",
    "            newdict[dict[i]] = i\n",
    "    return newdict"
   ]
  },
  {
   "cell_type": "code",
   "execution_count": 8,
   "id": "01566ab4",
   "metadata": {},
   "outputs": [
    {
     "name": "stdout",
     "output_type": "stream",
     "text": [
      "{'apple': 'fruit', 'Xinyu Jian': 'name', 23: ['age', 23], '231004': 'date', '123': 'key', 'male': 'gender'}\n"
     ]
    }
   ],
   "source": [
    "print(redict(dict1))"
   ]
  },
  {
   "cell_type": "markdown",
   "id": "b4b4e426",
   "metadata": {},
   "source": [
    "# Exercise 03\n",
    "Define a function that creates a dictionary of the first n fibonacci numbers as values paired with their indices as keys. "
   ]
  },
  {
   "cell_type": "code",
   "execution_count": 9,
   "id": "7845b5a4",
   "metadata": {},
   "outputs": [],
   "source": [
    "def fdict(num):\n",
    "    dict = {}\n",
    "    n1 = 0\n",
    "    n2 = 1\n",
    "    for i in range(num):\n",
    "        dict[i] = n1\n",
    "        n = n2\n",
    "        n2 = n1 + n2\n",
    "        n1 = n\n",
    "    return dict\n",
    "        "
   ]
  },
  {
   "cell_type": "code",
   "execution_count": 10,
   "id": "005e83dc",
   "metadata": {},
   "outputs": [
    {
     "data": {
      "text/plain": [
       "{0: 0,\n",
       " 1: 1,\n",
       " 2: 1,\n",
       " 3: 2,\n",
       " 4: 3,\n",
       " 5: 5,\n",
       " 6: 8,\n",
       " 7: 13,\n",
       " 8: 21,\n",
       " 9: 34,\n",
       " 10: 55,\n",
       " 11: 89,\n",
       " 12: 144,\n",
       " 13: 233,\n",
       " 14: 377,\n",
       " 15: 610,\n",
       " 16: 987,\n",
       " 17: 1597,\n",
       " 18: 2584,\n",
       " 19: 4181}"
      ]
     },
     "execution_count": 10,
     "metadata": {},
     "output_type": "execute_result"
    }
   ],
   "source": [
    "fdict(20)"
   ]
  }
 ],
 "metadata": {
  "kernelspec": {
   "display_name": "Python 3 (ipykernel)",
   "language": "python",
   "name": "python3"
  },
  "language_info": {
   "codemirror_mode": {
    "name": "ipython",
    "version": 3
   },
   "file_extension": ".py",
   "mimetype": "text/x-python",
   "name": "python",
   "nbconvert_exporter": "python",
   "pygments_lexer": "ipython3",
   "version": "3.11.5"
  }
 },
 "nbformat": 4,
 "nbformat_minor": 5
}
